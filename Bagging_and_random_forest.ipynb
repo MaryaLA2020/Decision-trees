{
 "cells": [
  {
   "cell_type": "markdown",
   "id": "78b0f13d",
   "metadata": {},
   "source": [
    "### Подключаем нужные библиотеки"
   ]
  },
  {
   "cell_type": "code",
   "execution_count": 12,
   "id": "e8829c4e",
   "metadata": {},
   "outputs": [],
   "source": [
    "import numpy as np\n",
    "import matplotlib.pyplot as plt\n",
    "\n",
    "from sklearn import datasets, model_selection"
   ]
  },
  {
   "cell_type": "markdown",
   "id": "e17bf08b",
   "metadata": {},
   "source": [
    "### Формируем датасет"
   ]
  },
  {
   "cell_type": "code",
   "execution_count": 2,
   "id": "bf3e5ef9",
   "metadata": {},
   "outputs": [
    {
     "name": "stdout",
     "output_type": "stream",
     "text": [
      "(1797, 64)\n",
      "(1797,)\n"
     ]
    }
   ],
   "source": [
    "digits = datasets.load_digits()\n",
    "print(digits.data.shape)\n",
    "print(digits.target.shape)"
   ]
  },
  {
   "cell_type": "code",
   "execution_count": 11,
   "id": "503da56b",
   "metadata": {},
   "outputs": [
    {
     "data": {
      "text/plain": [
       "<Figure size 432x288 with 0 Axes>"
      ]
     },
     "metadata": {},
     "output_type": "display_data"
    },
    {
     "data": {
      "image/png": "[encoded data removed]",
      "text/plain": [
       "<Figure size 288x288 with 1 Axes>"
      ]
     },
     "metadata": {
      "needs_background": "light"
     },
     "output_type": "display_data"
    }
   ],
   "source": [
    "plt.gray()\n",
    "plt.matshow(digits.images[4])\n",
    "plt.show()"
   ]
  },
  {
   "cell_type": "code",
   "execution_count": 15,
   "id": "65aa4693",
   "metadata": {},
   "outputs": [],
   "source": [
    "X = digits.data\n",
    "y = digits.target"
   ]
  },
  {
   "cell_type": "markdown",
   "id": "c9128ecc",
   "metadata": {},
   "source": [
    "### Модель из одного дерева"
   ]
  },
  {
   "cell_type": "code",
   "execution_count": 14,
   "id": "2f42511e",
   "metadata": {},
   "outputs": [],
   "source": [
    "from sklearn.tree import DecisionTreeClassifier \n",
    "from sklearn.model_selection import cross_val_score"
   ]
  },
  {
   "cell_type": "code",
   "execution_count": 21,
   "id": "5e443111",
   "metadata": {},
   "outputs": [
    {
     "data": {
      "text/plain": [
       "0.8269087523277466"
      ]
     },
     "execution_count": 21,
     "metadata": {},
     "output_type": "execute_result"
    }
   ],
   "source": [
    "score_1 = cross_val_score(DecisionTreeClassifier(), X, y, cv=10).mean()\n",
    "score_1"
   ]
  },
  {
   "cell_type": "markdown",
   "id": "4b1c54fa",
   "metadata": {},
   "source": [
    "### Бэггинг"
   ]
  },
  {
   "cell_type": "code",
   "execution_count": 24,
   "id": "1c69ac7b",
   "metadata": {},
   "outputs": [],
   "source": [
    "from sklearn.ensemble import BaggingClassifier"
   ]
  },
  {
   "cell_type": "code",
   "execution_count": 25,
   "id": "04c4647c",
   "metadata": {},
   "outputs": [
    {
     "data": {
      "text/plain": [
       "0.9276194909993792"
      ]
     },
     "execution_count": 25,
     "metadata": {},
     "output_type": "execute_result"
    }
   ],
   "source": [
    "score_2 = cross_val_score(BaggingClassifier(n_estimators=100), X, y, cv=10).mean()\n",
    "score_2"
   ]
  },
  {
   "cell_type": "markdown",
   "id": "94f28749",
   "metadata": {},
   "source": [
    "### Ограничение количества признаков"
   ]
  },
  {
   "cell_type": "code",
   "execution_count": 29,
   "id": "c37f510d",
   "metadata": {},
   "outputs": [
    {
     "data": {
      "text/plain": [
       "0.9298851644941031"
      ]
     },
     "execution_count": 29,
     "metadata": {},
     "output_type": "execute_result"
    }
   ],
   "source": [
    "score_3 = cross_val_score(BaggingClassifier(n_estimators=100,\n",
    "                                           bootstrap_features=True,\n",
    "                                           max_features=int(X.shape[1] ** (1/2))), \n",
    "                          X, y, cv=10).mean()\n",
    "score_3"
   ]
  },
  {
   "cell_type": "markdown",
   "id": "cc1250e0",
   "metadata": {},
   "source": [
    "### Ограничение количества признаков на каждом дереве"
   ]
  },
  {
   "cell_type": "code",
   "execution_count": 31,
   "id": "1e8bf277",
   "metadata": {},
   "outputs": [
    {
     "data": {
      "text/plain": [
       "0.9499068901303538"
      ]
     },
     "execution_count": 31,
     "metadata": {},
     "output_type": "execute_result"
    }
   ],
   "source": [
    "score_4 = cross_val_score(BaggingClassifier(base_estimator=DecisionTreeClassifier(max_features=int(X.shape[1] ** (1/2))),\n",
    "                                           n_estimators=100), \n",
    "                          X, y, cv=10).mean()\n",
    "score_4"
   ]
  },
  {
   "cell_type": "markdown",
   "id": "5c29262f",
   "metadata": {},
   "source": [
    "### Random Forest"
   ]
  },
  {
   "cell_type": "code",
   "execution_count": 32,
   "id": "17c2d248",
   "metadata": {},
   "outputs": [],
   "source": [
    "from sklearn.ensemble import RandomForestClassifier"
   ]
  },
  {
   "cell_type": "code",
   "execution_count": 33,
   "id": "1d9c88b6",
   "metadata": {},
   "outputs": [
    {
     "data": {
      "text/plain": [
       "0.9499162011173183"
      ]
     },
     "execution_count": 33,
     "metadata": {},
     "output_type": "execute_result"
    }
   ],
   "source": [
    "score_5 = cross_val_score(RandomForestClassifier(), X, y, cv=10).mean()\n",
    "score_5"
   ]
  },
  {
   "cell_type": "markdown",
   "id": "83cb878c",
   "metadata": {},
   "source": [
    "### Зависимость качества классификации от различных параметров"
   ]
  },
  {
   "cell_type": "code",
   "execution_count": 34,
   "id": "0369bd3c",
   "metadata": {},
   "outputs": [],
   "source": [
    "from sklearn.model_selection import validation_curve"
   ]
  },
  {
   "cell_type": "code",
   "execution_count": 50,
   "id": "85f9e51a",
   "metadata": {},
   "outputs": [],
   "source": [
    "def accuracy_from_param(param_name, param_range):\n",
    "    train_scores, test_scores = validation_curve(RandomForestClassifier(), X, y, \n",
    "                                            param_name=param_name, param_range=param_range, \n",
    "                                             cv=10,  scoring='accuracy', n_jobs=-1)\n",
    "    plt.grid(True)\n",
    "    plt.plot(param_range, train_scores.mean(axis=1), 'g-', marker='o', label='train')\n",
    "    plt.plot(param_range, test_scores.mean(axis=1), 'r-', marker='o', label='test')\n",
    "    plt.ylim((0.5, 1.05))\n",
    "    plt.legend(loc='lower right')"
   ]
  },
  {
   "cell_type": "markdown",
   "id": "6abc7867",
   "metadata": {},
   "source": [
    "#### Зависимость от числа деревьев:"
   ]
  },
  {
   "cell_type": "code",
   "execution_count": 51,
   "id": "61f1994b",
   "metadata": {},
   "outputs": [
    {
     "data": {
      "image/png": "[encoded data removed]",
      "text/plain": [
       "<Figure size 432x288 with 1 Axes>"
      ]
     },
     "metadata": {
      "needs_background": "light"
     },
     "output_type": "display_data"
    }
   ],
   "source": [
    "accuracy_from_param('n_estimators', np.arange(1, 101, 10))"
   ]
  },
  {
   "cell_type": "markdown",
   "id": "edbfc3ce",
   "metadata": {},
   "source": [
    "#### Зависимость от количества признаков, выбираемых при построении каждой вершины дерева:"
   ]
  },
  {
   "cell_type": "code",
   "execution_count": 52,
   "id": "c200f62c",
   "metadata": {},
   "outputs": [
    {
     "data": {
      "image/png": "[encoded data removed]",
      "text/plain": [
       "<Figure size 432x288 with 1 Axes>"
      ]
     },
     "metadata": {
      "needs_background": "light"
     },
     "output_type": "display_data"
    }
   ],
   "source": [
    "accuracy_from_param('max_features', np.arange(1, X.shape[1], 5))"
   ]
  },
  {
   "cell_type": "markdown",
   "id": "a0f86626",
   "metadata": {},
   "source": [
    "#### Зависимость от ограничений на глубину дерева:"
   ]
  },
  {
   "cell_type": "code",
   "execution_count": 53,
   "id": "639d9f88",
   "metadata": {},
   "outputs": [
    {
     "data": {
      "image/png": "[encoded data removed]",
      "text/plain": [
       "<Figure size 432x288 with 1 Axes>"
      ]
     },
     "metadata": {
      "needs_background": "light"
     },
     "output_type": "display_data"
    }
   ],
   "source": [
    "accuracy_from_param('max_depth', np.arange(1, 21, 5))"
   ]
  },
  {
   "cell_type": "markdown",
   "id": "75adb6d4",
   "metadata": {},
   "source": [
    "### Выводы:\n",
    "При очень маленьком числе деревьев (5, 10, 15), случайный лес работает хуже, чем при большем числе деревьев. С ростом количества деревьев в случайном лесе, в какой-то момент деревьев становится достаточно для высокого качества классификации, а затем качество существенно не меняется.\n",
    "\n",
    "При большом количестве признаков (для данного датасета - 40, 50) качество классификации становится хуже, чем при малом количестве признаков (5, 10). Это связано с тем, что чем меньше признаков выбирается в каждом узле, тем более различными получаются деревья (ведь деревья сильно неустойчивы к изменениям в обучающей выборке), и тем лучше работает их композиция.\n",
    "\n",
    "При небольшой максимальной глубине деревьев (5-6) качество работы случайного леса заметно хуже, чем без ограничений, т.к. деревья получаются недообученными. С ростом глубины качество сначала улучшается, а затем не меняется существенно, т.к. из-за усреднения прогнозов и различий деревьев их переобученность в бэггинге не сказывается на итоговом качестве (все деревья преобучены по-разному, и при усреднении они компенсируют переобученность друг-друга)."
   ]
  }
 ],
 "metadata": {
  "kernelspec": {
   "display_name": "Python 3 (ipykernel)",
   "language": "python",
   "name": "python3"
  },
  "language_info": {
   "codemirror_mode": {
    "name": "ipython",
    "version": 3
   },
   "file_extension": ".py",
   "mimetype": "text/x-python",
   "name": "python",
   "nbconvert_exporter": "python",
   "pygments_lexer": "ipython3",
   "version": "3.9.1"
  }
 },
 "nbformat": 4,
 "nbformat_minor": 5
}
